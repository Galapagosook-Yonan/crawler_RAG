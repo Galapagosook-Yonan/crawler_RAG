{
  "nbformat": 4,
  "nbformat_minor": 0,
  "metadata": {
    "colab": {
      "provenance": []
    },
    "kernelspec": {
      "name": "python3",
      "display_name": "Python 3"
    },
    "language_info": {
      "name": "python"
    },
    "widgets": {
      "application/vnd.jupyter.widget-state+json": {
        "d61e1958adf447bb82b087f67e986a27": {
          "model_module": "@jupyter-widgets/controls",
          "model_name": "HBoxModel",
          "model_module_version": "1.5.0",
          "state": {
            "_dom_classes": [],
            "_model_module": "@jupyter-widgets/controls",
            "_model_module_version": "1.5.0",
            "_model_name": "HBoxModel",
            "_view_count": null,
            "_view_module": "@jupyter-widgets/controls",
            "_view_module_version": "1.5.0",
            "_view_name": "HBoxView",
            "box_style": "",
            "children": [
              "IPY_MODEL_9c7368d078a94cf28a2b952b08d799c1",
              "IPY_MODEL_b9d02aef9fb6436f9246c7c4efb886e0",
              "IPY_MODEL_6ae274f1086646c398f2a087a2dea444"
            ],
            "layout": "IPY_MODEL_e59c042f0a054401a45555d315c283a7"
          }
        },
        "9c7368d078a94cf28a2b952b08d799c1": {
          "model_module": "@jupyter-widgets/controls",
          "model_name": "HTMLModel",
          "model_module_version": "1.5.0",
          "state": {
            "_dom_classes": [],
            "_model_module": "@jupyter-widgets/controls",
            "_model_module_version": "1.5.0",
            "_model_name": "HTMLModel",
            "_view_count": null,
            "_view_module": "@jupyter-widgets/controls",
            "_view_module_version": "1.5.0",
            "_view_name": "HTMLView",
            "description": "",
            "description_tooltip": null,
            "layout": "IPY_MODEL_7bca5e8b7d1c4469826f20b49fb02b10",
            "placeholder": "​",
            "style": "IPY_MODEL_a9f3fa0d711d485e80f2822bf2e512fd",
            "value": "100%"
          }
        },
        "b9d02aef9fb6436f9246c7c4efb886e0": {
          "model_module": "@jupyter-widgets/controls",
          "model_name": "FloatProgressModel",
          "model_module_version": "1.5.0",
          "state": {
            "_dom_classes": [],
            "_model_module": "@jupyter-widgets/controls",
            "_model_module_version": "1.5.0",
            "_model_name": "FloatProgressModel",
            "_view_count": null,
            "_view_module": "@jupyter-widgets/controls",
            "_view_module_version": "1.5.0",
            "_view_name": "ProgressView",
            "bar_style": "success",
            "description": "",
            "description_tooltip": null,
            "layout": "IPY_MODEL_7a4f9ca0558a4a0cb79858f04a3d813b",
            "max": 254,
            "min": 0,
            "orientation": "horizontal",
            "style": "IPY_MODEL_52320d4a90fe47c18fd5a644ac52a068",
            "value": 254
          }
        },
        "6ae274f1086646c398f2a087a2dea444": {
          "model_module": "@jupyter-widgets/controls",
          "model_name": "HTMLModel",
          "model_module_version": "1.5.0",
          "state": {
            "_dom_classes": [],
            "_model_module": "@jupyter-widgets/controls",
            "_model_module_version": "1.5.0",
            "_model_name": "HTMLModel",
            "_view_count": null,
            "_view_module": "@jupyter-widgets/controls",
            "_view_module_version": "1.5.0",
            "_view_name": "HTMLView",
            "description": "",
            "description_tooltip": null,
            "layout": "IPY_MODEL_3fbdfe21803d49849686a76e140d0567",
            "placeholder": "​",
            "style": "IPY_MODEL_7579060b8a3242d8a4bb5ee83f406a9b",
            "value": " 254/254 [01:21&lt;00:00,  3.95 parts/s]"
          }
        },
        "e59c042f0a054401a45555d315c283a7": {
          "model_module": "@jupyter-widgets/base",
          "model_name": "LayoutModel",
          "model_module_version": "1.2.0",
          "state": {
            "_model_module": "@jupyter-widgets/base",
            "_model_module_version": "1.2.0",
            "_model_name": "LayoutModel",
            "_view_count": null,
            "_view_module": "@jupyter-widgets/base",
            "_view_module_version": "1.2.0",
            "_view_name": "LayoutView",
            "align_content": null,
            "align_items": null,
            "align_self": null,
            "border": null,
            "bottom": null,
            "display": null,
            "flex": null,
            "flex_flow": null,
            "grid_area": null,
            "grid_auto_columns": null,
            "grid_auto_flow": null,
            "grid_auto_rows": null,
            "grid_column": null,
            "grid_gap": null,
            "grid_row": null,
            "grid_template_areas": null,
            "grid_template_columns": null,
            "grid_template_rows": null,
            "height": null,
            "justify_content": null,
            "justify_items": null,
            "left": null,
            "margin": null,
            "max_height": null,
            "max_width": null,
            "min_height": null,
            "min_width": null,
            "object_fit": null,
            "object_position": null,
            "order": null,
            "overflow": null,
            "overflow_x": null,
            "overflow_y": null,
            "padding": null,
            "right": null,
            "top": null,
            "visibility": null,
            "width": null
          }
        },
        "7bca5e8b7d1c4469826f20b49fb02b10": {
          "model_module": "@jupyter-widgets/base",
          "model_name": "LayoutModel",
          "model_module_version": "1.2.0",
          "state": {
            "_model_module": "@jupyter-widgets/base",
            "_model_module_version": "1.2.0",
            "_model_name": "LayoutModel",
            "_view_count": null,
            "_view_module": "@jupyter-widgets/base",
            "_view_module_version": "1.2.0",
            "_view_name": "LayoutView",
            "align_content": null,
            "align_items": null,
            "align_self": null,
            "border": null,
            "bottom": null,
            "display": null,
            "flex": null,
            "flex_flow": null,
            "grid_area": null,
            "grid_auto_columns": null,
            "grid_auto_flow": null,
            "grid_auto_rows": null,
            "grid_column": null,
            "grid_gap": null,
            "grid_row": null,
            "grid_template_areas": null,
            "grid_template_columns": null,
            "grid_template_rows": null,
            "height": null,
            "justify_content": null,
            "justify_items": null,
            "left": null,
            "margin": null,
            "max_height": null,
            "max_width": null,
            "min_height": null,
            "min_width": null,
            "object_fit": null,
            "object_position": null,
            "order": null,
            "overflow": null,
            "overflow_x": null,
            "overflow_y": null,
            "padding": null,
            "right": null,
            "top": null,
            "visibility": null,
            "width": null
          }
        },
        "a9f3fa0d711d485e80f2822bf2e512fd": {
          "model_module": "@jupyter-widgets/controls",
          "model_name": "DescriptionStyleModel",
          "model_module_version": "1.5.0",
          "state": {
            "_model_module": "@jupyter-widgets/controls",
            "_model_module_version": "1.5.0",
            "_model_name": "DescriptionStyleModel",
            "_view_count": null,
            "_view_module": "@jupyter-widgets/base",
            "_view_module_version": "1.2.0",
            "_view_name": "StyleView",
            "description_width": ""
          }
        },
        "7a4f9ca0558a4a0cb79858f04a3d813b": {
          "model_module": "@jupyter-widgets/base",
          "model_name": "LayoutModel",
          "model_module_version": "1.2.0",
          "state": {
            "_model_module": "@jupyter-widgets/base",
            "_model_module_version": "1.2.0",
            "_model_name": "LayoutModel",
            "_view_count": null,
            "_view_module": "@jupyter-widgets/base",
            "_view_module_version": "1.2.0",
            "_view_name": "LayoutView",
            "align_content": null,
            "align_items": null,
            "align_self": null,
            "border": null,
            "bottom": null,
            "display": null,
            "flex": null,
            "flex_flow": null,
            "grid_area": null,
            "grid_auto_columns": null,
            "grid_auto_flow": null,
            "grid_auto_rows": null,
            "grid_column": null,
            "grid_gap": null,
            "grid_row": null,
            "grid_template_areas": null,
            "grid_template_columns": null,
            "grid_template_rows": null,
            "height": null,
            "justify_content": null,
            "justify_items": null,
            "left": null,
            "margin": null,
            "max_height": null,
            "max_width": null,
            "min_height": null,
            "min_width": null,
            "object_fit": null,
            "object_position": null,
            "order": null,
            "overflow": null,
            "overflow_x": null,
            "overflow_y": null,
            "padding": null,
            "right": null,
            "top": null,
            "visibility": null,
            "width": null
          }
        },
        "52320d4a90fe47c18fd5a644ac52a068": {
          "model_module": "@jupyter-widgets/controls",
          "model_name": "ProgressStyleModel",
          "model_module_version": "1.5.0",
          "state": {
            "_model_module": "@jupyter-widgets/controls",
            "_model_module_version": "1.5.0",
            "_model_name": "ProgressStyleModel",
            "_view_count": null,
            "_view_module": "@jupyter-widgets/base",
            "_view_module_version": "1.2.0",
            "_view_name": "StyleView",
            "bar_color": null,
            "description_width": ""
          }
        },
        "3fbdfe21803d49849686a76e140d0567": {
          "model_module": "@jupyter-widgets/base",
          "model_name": "LayoutModel",
          "model_module_version": "1.2.0",
          "state": {
            "_model_module": "@jupyter-widgets/base",
            "_model_module_version": "1.2.0",
            "_model_name": "LayoutModel",
            "_view_count": null,
            "_view_module": "@jupyter-widgets/base",
            "_view_module_version": "1.2.0",
            "_view_name": "LayoutView",
            "align_content": null,
            "align_items": null,
            "align_self": null,
            "border": null,
            "bottom": null,
            "display": null,
            "flex": null,
            "flex_flow": null,
            "grid_area": null,
            "grid_auto_columns": null,
            "grid_auto_flow": null,
            "grid_auto_rows": null,
            "grid_column": null,
            "grid_gap": null,
            "grid_row": null,
            "grid_template_areas": null,
            "grid_template_columns": null,
            "grid_template_rows": null,
            "height": null,
            "justify_content": null,
            "justify_items": null,
            "left": null,
            "margin": null,
            "max_height": null,
            "max_width": null,
            "min_height": null,
            "min_width": null,
            "object_fit": null,
            "object_position": null,
            "order": null,
            "overflow": null,
            "overflow_x": null,
            "overflow_y": null,
            "padding": null,
            "right": null,
            "top": null,
            "visibility": null,
            "width": null
          }
        },
        "7579060b8a3242d8a4bb5ee83f406a9b": {
          "model_module": "@jupyter-widgets/controls",
          "model_name": "DescriptionStyleModel",
          "model_module_version": "1.5.0",
          "state": {
            "_model_module": "@jupyter-widgets/controls",
            "_model_module_version": "1.5.0",
            "_model_name": "DescriptionStyleModel",
            "_view_count": null,
            "_view_module": "@jupyter-widgets/base",
            "_view_module_version": "1.2.0",
            "_view_name": "StyleView",
            "description_width": ""
          }
        }
      }
    }
  },
  "cells": [
    {
      "cell_type": "markdown",
      "source": [
        "```\n",
        "💡 Colab Dark 모드 사용을 권장합니다 (도구 > 설정 > 사이트 > 테마)\n",
        "```\n",
        "\n",
        "# 숙명여대 Winter Camp❄️ Elastic Day4 : Elasticsearch with ChatGPT\n",
        "\n",
        "[노트 소개]\n",
        "* 본 노트에서는 Huggingface의 텍스트 임베딩 NLP 모델을 ES Cloud에 탑재하는 과정을 진행합니다.\n",
        "\n",
        "[노트 목표]\n",
        "* Huggingface의 텍스트 임베딩 NLP 모델을 Elasticsearch Cloud에 탑재할 수 있다.\n",
        "\n",
        "[참조 자료]\n",
        "* [Eland python library](https://github.com/elastic/eland)\n",
        "\n"
      ],
      "metadata": {
        "id": "6xoLDtS_6Df1"
      }
    },
    {
      "cell_type": "markdown",
      "source": [
        "## 🐘 실습을 함께할 친구 : 로끼리\n",
        "> 로끼리는 본 노트를 제공하는 로이드케이에서 온 열정 넘치는 서포터입니다.\n",
        "\n",
        "```python\n",
        "🐘\n",
        "\"\"\n",
        "반가워요. 저는 실습을 함께할 로끼리예요!\n",
        "전 Elasticsearch와 ChatGPT에 관심이 많아요.\n",
        "실습 노트를 편하게 작성하실 수 있도록 열심히 서포트할게요~!\n",
        "\"\"\n",
        "\n",
        "❔ = FAQ\n",
        "❕ = (Requierd) 확인 사항\n",
        "🔥 = (Optional) Further Leaning : 끝없는 지식의 탐구자를 위한 추가 과제 or 질문. 실습 중엔 다루지 않아요.\n",
        "```"
      ],
      "metadata": {
        "id": "Xvc0nJKdkWns"
      }
    },
    {
      "cell_type": "markdown",
      "source": [
        "\n",
        "---"
      ],
      "metadata": {
        "id": "JJV1gF4usPxQ"
      }
    },
    {
      "cell_type": "markdown",
      "source": [
        "# 실습 노트\n",
        "1. 본 실습을 진행하기 위해 라이선스가 활성화 된 Elastic Cloud가 준비되어 있어야 합니다.\n",
        "2. ChatGPT 연동을 위해 OpenAI API key가 있어야 합니다.\n",
        "```python\n",
        "🐘\n",
        "\"\"\n",
        "오늘 실습에서는 제가 OpenAI API key를 발급해 드릴게요!\n",
        "\"\"\n",
        "```"
      ],
      "metadata": {
        "id": "OQRZsUxAlxST"
      }
    },
    {
      "cell_type": "markdown",
      "source": [
        "## Elastic Cloud ML 노드 설정\n",
        "```python\n",
        "🐘\n",
        "\"\"\n",
        "여러분은 ID/PW 방식으로 로그인하니 아래 Management Page는 볼 수 없어요. 향후 개인 클러스터 활용시 참고해 주세요~\n",
        "\"\"\n",
        "```\n",
        "1. Elastic Cloud Deployment > Edit\n",
        "<br>\n",
        "<img src=\"https://lh3.googleusercontent.com/fife/AKsag4PAi6_GQ1GKicFawXZA2VjV9Ojfof-i3t4TYOLdszlLhYxWszV_FTfc6lnvyFDMUAkZttdQSkLxdeJYNiJmfMNzHz9AQMv276yvisidW8YZ4HG_7UQIWeAbd3MVUPzROFFpiTRbQ5jJ7yNiymduucGoPiJxulZVDawjjNhZcf88-cNKWrXuO9Qxa40EH9fpF7622rYTX7CAE3yEYzc6LcYuu0hrQ0ubVToJiFjq52qiy7VymRkisAUqhJLe7WpwYd-CCrCoQhquhq_5sRZzrGSWhh3lEQ7p81ZbTnAhd5y3Hz5tG7dcwwKoH4sPIQ7bs8aXjSC2SOGE0Mj96kkTtHa98HSD4e9GFyF64xzrvoPumNJPmRRweYQnIyVMTervNYc9yN7dl483i8rv1Yc4v-2DVlNRY0foi8u3uuHTyVGcZ39iBkc8mP96gdItxwGldM69wonSyft_Tyx5SOf7xNsHiOJZIVIq_poNgin2aI7nXhNArZzltA2rwHnUhgiZ5fUP5NJ9_Q8SbwK4CooCVES9pyX3yDxElWKLG0zn0In5PzltySMP_LqLNV9VS176vVBKbVn1ZYRmBGRR3V69p5ANnxJ_W03JqwtJk5tYNmJWA2kpUQmIxunQe842_2Zaq1Q7plF2aoLuPJK-gH6Z58FJo4fOCtzq3JICtCzh_ctpcffRWYB40GZpni1ObJ6centia-EkedCQad44Mqr9HqmhBpoJYRQHSMpwhMFrCByvNb-anULpM_yGuS9OW08zfMxU68H6M4GuINChRfHs7alTKtrgordBOd8DnmPM1qobCfYFtZaT6NB319O1Bd6hegX9TM_R44Z2r0oZb-QRXUt9oA52GPeyTlavyXyt8VTKO8tFwvwhyg8XnCRMG-jx7c8tyrWNjJveYWn7Y_duXwkQCcD5DY60bPLwT7sYqksvNAaSdhT6xCiRfDcGp4uzdLI1yIIcpgX6bbaNqgxKFiaCxiLuBLhdIomh6qB8nmAgt-4nksYxHXypv7n1LCpX5Olv1haUhRlyiJLaY4Q3imjDCslmUqEU8sp7ZofyFE-93POTo1jsJ1JvB_DXrQ8P3y5U-Ryu0n8V0bBHLUGFx-FKoVz0QOYPE_DkBSPbXZecugx20jezTuJD2WoshY6hD-ts0EcKpEMSwBljh5XG2pTeLPZp2JtrS1HVzWCSCYUN-I_Z_XehaCex1ahvQWobE34cLQPzC0iJH9-blTn4VlUIbFGbF3FRmgcephb7UNG1OyrInpqhn_wkvmdY52lTCwpHhMVlvgxnfcjlOdTOXnE1iiJgC625Dugt6_jvF9kceLAOCwnlHanbGZwLbTzKY07AFVQyiKdXnqM872vj6Phhhv1gRgXfvR1oxDCNdSFBZJF0qrxbrOSBpv3WDqtM49VMDZ7q49f8rYhoOhlN8fp9s6ZRHu2EuYpx0iYo561C-heXeLhfNkado1uu0lD8h7onawR6uj1MgWEFjRQawyTyPL6fxRLI3f9-u-2RgMQagNDWd36TX94SUe7ZFVvGi7Pw86k7qzajgVAyK6r1FD4mfHiy21YcfNAlI75RgVXErvn3NhbHqjiAXGB6gnkEydcbccJZsqcgWZCHAcr57WcTm6hzKlradzUJlY6oY-sLmby4RbHLjPzFGjwL3LTyQfUvzq-qZ1t1Lawt7vW42DdsiFXzTMVm30-WPv41nOJL8xWziYmdVWjDNg=w1396-h926\">\n",
        "2. Machine Learning instance 활성화 > Save\n",
        "<br>\n",
        "<img src=\"https://lh3.googleusercontent.com/fife/AKsag4P485dC-5HX5Kwa6A2uh41o8nnfP5WsJKloLxsjKjqqznmS_SugBHLrN6hwgK901kZzXVXxhXOovLP1jW2R_haO2QHddYpGlJsrzYbksKc2zxFt3r5KiO2fBWZAQGoPTu2fQTnG6cBD9FHgPmDrkIlHpXj7SEW03Ad9wk20_7fRYcPBpGb6JfBPx7BPJnDmht2uS6gkn2ADaUL_5XUNBsQ1FHBKO-Ta21VeY5zmF4kQet5Ppu4Y4a3TYgD-z5cTSJpLGveInMpmlaoJzwOK2dvNbvbiYRBmocKthbI02FO1u5jH-EnoojiNY0PTVqkfEeuODcohl-Vh_4z6gIe1ljlHjS1YqOZPQF0UChA-pYkgdvE6x9yB0ra4Z8INPjDdg5MHnTNqB8qFMebGm13T5JfiR4FGsI1TUH4wq2TOMmBGPHqO0RdOBMAEKfTDsXBFQzi9heevz5AjSDiufzQiqJCgmmyxMeLkeSWxmXjm1EBKNzJ6ZoxunnVJDYblUJq7_5xCrtA6WfsKpQnSPVIYrVpy5WmWMOEb_2Hb1ODHrZdovPNwWiopXgy3D_zr5sdl8ZL0qmIK53T41aTJM5z_xqtCMjLiDY567WCC2RlIHiMwDnTNEe1ldznuPJFLogSAAro-Qpvr0uyfQ9iWBsYehLcYkJswH8gPeTfuhWZIbSgLTZ51oPpRJNsM6-YN3aR7ratvLTdT-gDycN2q0nBDV46cYHU9vhreV0CpT6rvr66T3h6Wz-MXe_SCqTtY58iCy3KP70uh1Ju4UOpsOu_14kLSRtW6xaeclPaxpfm6v8w86n9iAyebUwZR6dOZLwwrPBb6Qk_LOO_fbMtOUhXuak6vw4WA5muP8Uv7wk3pncwVciP1p3MiWGj27tXCozQzxEVyyJAD2wMVJEpdsyJgwyBjmuTauOAGweJiKBXeC3Y_qYyqWmOFLu4t6QQa5722Etu9Dw2iBKHBwXrgLq8gaTvkwNa1Cf6QD5BZR0OLYqhmLDWLaXYCcdGqLRRgIpQwrB6v9WgxwXbKcPtqqByMSB_9CbT74Yieb_L7io1FU27nq0FF3e4f6HZuUkd350-kiBcV_Xn5SxS1uAqYH8Qp_QPCBAXI5DR-poLku-IRNERKUou3hxRhTg9Bi0WAJ8poTLbdRYgIoYXPWgosbby1CXQ6WjcQvUYUhrzC79kaAGz8R-6YjCF0LkRPRVFxI2rzCeg3SZ-dd9HCyAK8lPAOTKCDLft-ZaF4wsaIp_0XS_mByzaMq5fdEI-EaVaKKoVrSVkeUcBs5ilQh7sftq07Zozj6GcKLDOynRfQC76DnIHdS8nW3t8fLzae6XNkcmcyo31w9W_hDpcNG7bgpRmD4QyyHm0qD9gzRPhr3h-7_LXRGrZ1tRYLqIfMUtAQ6aC3Ehel8S2vK2NrnoIfIMz2yKBCSCkTNMrsKeI63q7urpVA3_V_gmlrRibUCipRcrI5ixXppiU4CkmezbLuW2BaWD_7aAfVqC_B5wVOiYwWTh4i_UN_Z4W5uCCeeywaXjEqBhUblPZUG3AjSFji8ZNh6ayYrzre6EN7m5gbmEvyyAb_0bxu41uxVn9UEAv7Ci3_-vrXmCBDsBRBoJyulBbm_BfsSPttfRQPYCVuQZQw-jQ11sJhtHBbgc6g4QJvaZrPQHSIrZ3DQfTUeLiCVHbFUGDWSagMwI_QWbeiE_1KESGVnwYWEsiKpGCMig=w653-h934\">\n",
        "3. Activity 화면에서 적용 완료 확인\n",
        "<br>\n",
        "<img src=\"https://lh3.googleusercontent.com/fife/AKsag4Neyn-X813nzqjXTd1SnN8LyQZsWjDoiTey9qj8XzA4bv_HNVVhLK-lttsWipmlHRmruTume6h4m1TidJ80i8tL_WAOZ0VKi2DdvwfvE7IlRySCtHfpxXXt57SLxSXitxQrZUHLUQkDLzXbNW8L6EH4Bzf9tL6xcB9tJqJk-rmEDwgOulLPOORb5n-Mc_XEyEfv_yuvevL9t98aaXVgd1jyCN6-JId9CKjPMjORPiyDNy5oZOvkUk3uTRZU9ZK7j_O_ceD5hUMa2xByxMlh6L4RLlav5iIlcYj6_TeC6DvmETQCX2o4zh9aROjpz5dqA71mmbDsvRXs3EJBAwIyVC5k1IQEmkGYfaRJJkNYkrObjwPsxklBN2Ojb8xKv1zE7KKDz0K0HfodvwCy_02REbn0CcHQoBNEp3zs8A9Yz_Pz89SusJ1evPuTvJYcFSATJeICxKKj2-pB8FlecF9AOghv1QBusWKhaGIbQE6yfolNa8g89Xylzjm3l6ltaso5Ii8S1L5zOuzux5K7u_CeGFy-wl-JSzL8mltZd9pKk9E8IwJxLajjyCNxuFF7AvshSNtZ9K-l8ILuZ4clpyUQNQ5egm2-blGcyqhxGxMT5-y8fxXVcauyetjGbvPTBHs4V_NKHbqD9blBhv39eokVDD3QXAz9_T_UmnnVszWNecdFwKtMkzat5bSIHs_HOgdNSZfsFDC7wxBzE1VXwWazurTPSc_sDL7AmuX8tzsHijj-r9KIMj_4P93DkDwFoDjOAQqLW6V5e3nzbitHxsURrq1Ob1DYcDdx4p4Sb2U2ud2klezuzIOed3K-RaTau1-wO4UHu184k--7cQrXgEdTlfFyi1D_FCGM8WvNyhFv5bp0bzDO-8ImYZ47LwYwztfFVRTyHErnt_HjbDaDZDo0b3lzz3dIwmn3k3DYAjcIBvI5BllMypbFIgzJbwb6ZmKmViFPsMtm6VvjiJ1ZShxrlXBcO3HK7fbxgIuMf4jy8KqS1G2MHvF5E5flL27e1CQxkHidw6vunT29-QTBjHQ7gxxJa6GsUZoLQEfpUzlSwOB7bqPqXX98_YHcKZHk40U1e2dqkQG8dBMR_EFVYlce6GKib2pgLIjI4WA8qHlz8KbN7lbubr-PSCE2p7a9RMfNdXqKEXrzlfFeH1EB-0r21YvrLs5it5NdAUkKYPAqfCw0yK3WQrZywuMXfiRcBn1Jmtq-pQ5YKsET4tmH3i_9cr2SisDPw9lzvuCR4ISBmYADzgMZ9iDDcJzcb3HaV3wZJJTUexOOYF7vMWOkwgFypuO4EBDNH2XJuj-Y-o4NArAGw90avJDlLBeNpD56L5UZaBmaSmy2TPdlHmiIso2i2cjCNZbo3EtmrUgl6Ac6du7JqXHz3rzaTicFWbk6oZzxhnILhZRuTmDdpUR_f4-_jLmD-Cjo0nWYUKZMeNuin73RiCdtAroHK3HB5hZkl5ntKcyyJN1_AIp6UrhEpI3zIwYz_g_9abew5oZq3rRfFWYcKhdtL8lAWQcg7Dn8n0ZLYOBU-Ojf63n7D_FVp0ftHyKwFcUJBB5FOOL-Knv8N6bQLE-gh8yp6avbdCmUtPR8NKHc3vthd9hFDJxyFTO8861EVnh9rkFdPlhVcrzzNj655qDuuUYvMUeqvPT_oN7O5266qsLfTg9KWvURGiLFLUg3_gbKw6GRaJVz9fr8oE_P0O9JH73LqMd-cQ=w653-h934\">\n"
      ],
      "metadata": {
        "id": "mBb5uzl-qe3x"
      }
    },
    {
      "cell_type": "markdown",
      "source": [
        "## ML model 탑재 from Hugginface\n",
        "```python\n",
        "🐘\n",
        "\"\"\n",
        "Eland를 이용해 Elasticsearch로 Huggingface에 있는 모델을 업로드할 수 있어요.\n",
        "\"\"\n",
        "```"
      ],
      "metadata": {
        "id": "Ly1f1P-l9ri8"
      }
    },
    {
      "cell_type": "code",
      "execution_count": null,
      "metadata": {
        "id": "rUedSzQW9FIF",
        "colab": {
          "base_uri": "https://localhost:8080/"
        },
        "outputId": "baf6d7a6-ba62-436f-aeb2-32b278047d46"
      },
      "outputs": [
        {
          "output_type": "stream",
          "name": "stdout",
          "text": [
            "\u001b[2K     \u001b[90m━━━━━━━━━━━━━━━━━━━━━━━━━━━━━━━━━━━━━━━━\u001b[0m \u001b[32m163.6/163.6 kB\u001b[0m \u001b[31m3.5 MB/s\u001b[0m eta \u001b[36m0:00:00\u001b[0m\n",
            "\u001b[2K     \u001b[90m━━━━━━━━━━━━━━━━━━━━━━━━━━━━━━━━━━━━━━━━\u001b[0m \u001b[32m432.1/432.1 kB\u001b[0m \u001b[31m8.4 MB/s\u001b[0m eta \u001b[36m0:00:00\u001b[0m\n",
            "\u001b[2K     \u001b[90m━━━━━━━━━━━━━━━━━━━━━━━━━━━━━━━━━━━━━━━━\u001b[0m \u001b[32m156.5/156.5 kB\u001b[0m \u001b[31m7.4 MB/s\u001b[0m eta \u001b[36m0:00:00\u001b[0m\n",
            "\u001b[2K     \u001b[90m━━━━━━━━━━━━━━━━━━━━━━━━━━━━━━━━━━━━━━━━\u001b[0m \u001b[32m619.9/619.9 MB\u001b[0m \u001b[31m2.3 MB/s\u001b[0m eta \u001b[36m0:00:00\u001b[0m\n",
            "\u001b[2K     \u001b[90m━━━━━━━━━━━━━━━━━━━━━━━━━━━━━━━━━━━━━━━━\u001b[0m \u001b[32m21.0/21.0 MB\u001b[0m \u001b[31m53.6 MB/s\u001b[0m eta \u001b[36m0:00:00\u001b[0m\n",
            "\u001b[2K     \u001b[90m━━━━━━━━━━━━━━━━━━━━━━━━━━━━━━━━━━━━━━━━\u001b[0m \u001b[32m849.3/849.3 kB\u001b[0m \u001b[31m45.0 MB/s\u001b[0m eta \u001b[36m0:00:00\u001b[0m\n",
            "\u001b[2K     \u001b[90m━━━━━━━━━━━━━━━━━━━━━━━━━━━━━━━━━━━━━━━━\u001b[0m \u001b[32m11.8/11.8 MB\u001b[0m \u001b[31m70.1 MB/s\u001b[0m eta \u001b[36m0:00:00\u001b[0m\n",
            "\u001b[2K     \u001b[90m━━━━━━━━━━━━━━━━━━━━━━━━━━━━━━━━━━━━━━━━\u001b[0m \u001b[32m557.1/557.1 MB\u001b[0m \u001b[31m2.5 MB/s\u001b[0m eta \u001b[36m0:00:00\u001b[0m\n",
            "\u001b[2K     \u001b[90m━━━━━━━━━━━━━━━━━━━━━━━━━━━━━━━━━━━━━━━━\u001b[0m \u001b[32m317.1/317.1 MB\u001b[0m \u001b[31m4.0 MB/s\u001b[0m eta \u001b[36m0:00:00\u001b[0m\n",
            "\u001b[2K     \u001b[90m━━━━━━━━━━━━━━━━━━━━━━━━━━━━━━━━━━━━━━━━\u001b[0m \u001b[32m168.4/168.4 MB\u001b[0m \u001b[31m2.4 MB/s\u001b[0m eta \u001b[36m0:00:00\u001b[0m\n",
            "\u001b[2K     \u001b[90m━━━━━━━━━━━━━━━━━━━━━━━━━━━━━━━━━━━━━━━━\u001b[0m \u001b[32m54.6/54.6 MB\u001b[0m \u001b[31m10.0 MB/s\u001b[0m eta \u001b[36m0:00:00\u001b[0m\n",
            "\u001b[2K     \u001b[90m━━━━━━━━━━━━━━━━━━━━━━━━━━━━━━━━━━━━━━━━\u001b[0m \u001b[32m102.6/102.6 MB\u001b[0m \u001b[31m8.7 MB/s\u001b[0m eta \u001b[36m0:00:00\u001b[0m\n",
            "\u001b[2K     \u001b[90m━━━━━━━━━━━━━━━━━━━━━━━━━━━━━━━━━━━━━━━━\u001b[0m \u001b[32m173.2/173.2 MB\u001b[0m \u001b[31m6.5 MB/s\u001b[0m eta \u001b[36m0:00:00\u001b[0m\n",
            "\u001b[2K     \u001b[90m━━━━━━━━━━━━━━━━━━━━━━━━━━━━━━━━━━━━━━━━\u001b[0m \u001b[32m177.1/177.1 MB\u001b[0m \u001b[31m2.4 MB/s\u001b[0m eta \u001b[36m0:00:00\u001b[0m\n",
            "\u001b[2K     \u001b[90m━━━━━━━━━━━━━━━━━━━━━━━━━━━━━━━━━━━━━━━━\u001b[0m \u001b[32m98.6/98.6 kB\u001b[0m \u001b[31m10.8 MB/s\u001b[0m eta \u001b[36m0:00:00\u001b[0m\n",
            "\u001b[2K     \u001b[90m━━━━━━━━━━━━━━━━━━━━━━━━━━━━━━━━━━━━━━━━\u001b[0m \u001b[32m63.3/63.3 MB\u001b[0m \u001b[31m9.4 MB/s\u001b[0m eta \u001b[36m0:00:00\u001b[0m\n",
            "\u001b[2K     \u001b[90m━━━━━━━━━━━━━━━━━━━━━━━━━━━━━━━━━━━━━━━━\u001b[0m \u001b[32m153.0/153.0 kB\u001b[0m \u001b[31m17.1 MB/s\u001b[0m eta \u001b[36m0:00:00\u001b[0m\n",
            "\u001b[?25h  Installing build dependencies ... \u001b[?25l\u001b[?25hdone\n",
            "  Getting requirements to build wheel ... \u001b[?25l\u001b[?25hdone\n",
            "  Installing backend dependencies ... \u001b[?25l\u001b[?25hdone\n",
            "  Preparing metadata (pyproject.toml) ... \u001b[?25l\u001b[?25hdone\n",
            "\u001b[2K     \u001b[90m━━━━━━━━━━━━━━━━━━━━━━━━━━━━━━━━━━━━━━━━\u001b[0m \u001b[32m59.9/59.9 kB\u001b[0m \u001b[31m6.8 MB/s\u001b[0m eta \u001b[36m0:00:00\u001b[0m\n",
            "\u001b[?25h  Building wheel for lit (pyproject.toml) ... \u001b[?25l\u001b[?25hdone\n",
            "\u001b[31mERROR: pip's dependency resolver does not currently take into account all the packages that are installed. This behaviour is the source of the following dependency conflicts.\n",
            "torchaudio 2.1.0+cu121 requires torch==2.1.0, but you have torch 2.0.1 which is incompatible.\n",
            "torchdata 0.7.0 requires torch==2.1.0, but you have torch 2.0.1 which is incompatible.\n",
            "torchtext 0.16.0 requires torch==2.1.0, but you have torch 2.0.1 which is incompatible.\n",
            "torchvision 0.16.0+cu121 requires torch==2.1.0, but you have torch 2.0.1 which is incompatible.\u001b[0m\u001b[31m\n",
            "\u001b[0m"
          ]
        },
        {
          "output_type": "stream",
          "name": "stderr",
          "text": [
            "/usr/local/lib/python3.10/dist-packages/eland/ml/_optional.py:116: UserWarning: Eland requires version '1.3' or newer of 'sklearn' (version '1.2.2' currently installed). Use pip or conda to update sklearn.\n",
            "  warnings.warn(msg, UserWarning)\n",
            "<ipython-input-1-8ecd0aaf0763>:8: DeprecationWarning: Importing from the 'elasticsearch.client' module is deprecated. Instead use 'elasticsearch' module for importing the client.\n",
            "  from elasticsearch.client import MlClient\n"
          ]
        }
      ],
      "source": [
        "# Eland 설치 및 import\n",
        "!pip -q install eland elasticsearch sentence_transformers transformers torch==2.0.1\n",
        "\n",
        "from pathlib import Path\n",
        "from eland.ml.pytorch import PyTorchModel\n",
        "from eland.ml.pytorch.transformers import TransformerModel\n",
        "from elasticsearch import Elasticsearch\n",
        "from elasticsearch.client import MlClient\n",
        "\n",
        "import getpass"
      ]
    },
    {
      "cell_type": "code",
      "source": [
        "# Elastic Cloud 연동 정보 입력\n",
        "# 코드를 실행하고 출력창에 직접 Cloud ID와 Username, Password를 입력\n",
        "es_cloud_id = getpass.getpass('Enter Elastic Cloud ID:  ')\n",
        "es_user = getpass.getpass('Enter cluster username:  ')\n",
        "es_pass = getpass.getpass('Enter cluster password:  ')"
      ],
      "metadata": {
        "id": "SSGgYHome69o",
        "colab": {
          "base_uri": "https://localhost:8080/"
        },
        "outputId": "eda76b13-4da5-42bc-ecd7-9d230339f3ad"
      },
      "execution_count": null,
      "outputs": [
        {
          "name": "stdout",
          "output_type": "stream",
          "text": [
            "Enter Elastic Cloud ID:  ··········\n",
            "Enter cluster username:  ··········\n",
            "Enter cluster password:  ··········\n"
          ]
        }
      ]
    },
    {
      "cell_type": "code",
      "source": [
        "# Elatic Cloud 연동 확인\n",
        "es = Elasticsearch(cloud_id=es_cloud_id, basic_auth=(es_user, es_pass))\n",
        "es.info()"
      ],
      "metadata": {
        "id": "I8mVJkKmetXo",
        "colab": {
          "base_uri": "https://localhost:8080/"
        },
        "outputId": "3a4cc699-e5dc-4e6c-964f-fea98ce13252"
      },
      "execution_count": null,
      "outputs": [
        {
          "output_type": "execute_result",
          "data": {
            "text/plain": [
              "ObjectApiResponse({'name': 'instance-0000000001', 'cluster_name': '80a09aef3e1c4b1cacacbd1408c73d65', 'cluster_uuid': '9TdEuljtQBaGDJAJFq7ZTQ', 'version': {'number': '8.12.2', 'build_flavor': 'default', 'build_type': 'docker', 'build_hash': '48a287ab9497e852de30327444b0809e55d46466', 'build_date': '2024-02-19T10:04:32.774273190Z', 'build_snapshot': False, 'lucene_version': '9.9.2', 'minimum_wire_compatibility_version': '7.17.0', 'minimum_index_compatibility_version': '7.0.0'}, 'tagline': 'You Know, for Search'})"
            ]
          },
          "metadata": {},
          "execution_count": 5
        }
      ]
    },
    {
      "cell_type": "markdown",
      "source": [
        "```python\n",
        "🐘\n",
        "\"\"\n",
        "ES 연동이 잘 되었다면, Huggingface에서 모델을 골라 탑재해볼게요!\n",
        "\"\"\n",
        "```"
      ],
      "metadata": {
        "id": "egIrrjheAGSY"
      }
    },
    {
      "cell_type": "code",
      "source": [
        "# 모델 새로 설치할 땐 이 셀만 바꾸면 됨\n",
        "# model_id, task type 설정\n",
        "hf_model_id='distilbert-base-uncased-finetuned-sst-2-english'\n",
        "tm = TransformerModel(model_id=hf_model_id, task_type='text_embedding')\n",
        "\n",
        "es_model_id = tm.elasticsearch_model_id()\n",
        "\n",
        "# 모델 다운로드\n",
        "tmp_path = \"models\"\n",
        "Path(tmp_path).mkdir(parents=True, exist_ok=True)\n",
        "model_path, config, vocab_path = tm.save(tmp_path)\n",
        "\n",
        "# ES 탑재\n",
        "ptm = PyTorchModel(es, es_model_id)\n",
        "ptm.import_model(model_path=model_path, config_path=None, vocab_path=vocab_path, config=config)\n"
      ],
      "metadata": {
        "id": "zPV3oFsKiYFL",
        "colab": {
          "base_uri": "https://localhost:8080/",
          "height": 141,
          "referenced_widgets": [
            "d61e1958adf447bb82b087f67e986a27",
            "9c7368d078a94cf28a2b952b08d799c1",
            "b9d02aef9fb6436f9246c7c4efb886e0",
            "6ae274f1086646c398f2a087a2dea444",
            "e59c042f0a054401a45555d315c283a7",
            "7bca5e8b7d1c4469826f20b49fb02b10",
            "a9f3fa0d711d485e80f2822bf2e512fd",
            "7a4f9ca0558a4a0cb79858f04a3d813b",
            "52320d4a90fe47c18fd5a644ac52a068",
            "3fbdfe21803d49849686a76e140d0567",
            "7579060b8a3242d8a4bb5ee83f406a9b"
          ]
        },
        "outputId": "5ea26b8d-fd2c-4a50-9595-1e7fd49c3d2e"
      },
      "execution_count": null,
      "outputs": [
        {
          "output_type": "stream",
          "name": "stderr",
          "text": [
            "WARNING:sentence_transformers.SentenceTransformer:No sentence-transformers model found with name distilbert-base-uncased-finetuned-sst-2-english. Creating a new one with MEAN pooling.\n",
            "WARNING:sentence_transformers.SentenceTransformer:`SentenceTransformer._target_device` has been removed, please use `SentenceTransformer.device` instead.\n",
            "WARNING:sentence_transformers.SentenceTransformer:`SentenceTransformer._target_device` has been removed, please use `SentenceTransformer.device` instead.\n",
            "WARNING:sentence_transformers.SentenceTransformer:`SentenceTransformer._target_device` has been removed, please use `SentenceTransformer.device` instead.\n",
            "WARNING:sentence_transformers.SentenceTransformer:`SentenceTransformer._target_device` has been removed, please use `SentenceTransformer.device` instead.\n"
          ]
        },
        {
          "output_type": "display_data",
          "data": {
            "text/plain": [
              "  0%|          | 0/254 [00:00<?, ? parts/s]"
            ],
            "application/vnd.jupyter.widget-view+json": {
              "version_major": 2,
              "version_minor": 0,
              "model_id": "d61e1958adf447bb82b087f67e986a27"
            }
          },
          "metadata": {}
        }
      ]
    },
    {
      "cell_type": "markdown",
      "source": [
        "```python\n",
        "🐘\n",
        "\"\"\n",
        "Elasticsearch에 모델이 잘 업로드되었는지 정보를 출력해볼까요?\n",
        "\"\"\n",
        "```"
      ],
      "metadata": {
        "id": "iBZny2SPAu0H"
      }
    },
    {
      "cell_type": "code",
      "source": [
        "# Elasticsearch ML list\n",
        "m = MlClient.get_trained_models(es, model_id=es_model_id)\n",
        "m.body"
      ],
      "metadata": {
        "id": "b4Wv8EJvpfZI",
        "colab": {
          "base_uri": "https://localhost:8080/"
        },
        "outputId": "13915c2a-5178-46d1-ede5-b9b4c5bc44b4"
      },
      "execution_count": null,
      "outputs": [
        {
          "output_type": "execute_result",
          "data": {
            "text/plain": [
              "{'count': 1,\n",
              " 'trained_model_configs': [{'model_id': 'distilbert-base-uncased-finetuned-sst-2-english',\n",
              "   'model_type': 'pytorch',\n",
              "   'created_by': 'api_user',\n",
              "   'version': '12.0.0',\n",
              "   'create_time': 1710026842354,\n",
              "   'model_size_bytes': 0,\n",
              "   'estimated_operations': 0,\n",
              "   'license_level': 'platinum',\n",
              "   'description': \"Model distilbert-base-uncased-finetuned-sst-2-english for task type 'text_classification'\",\n",
              "   'tags': [],\n",
              "   'metadata': {'per_allocation_memory_bytes': 544313424,\n",
              "    'per_deployment_memory_bytes': 267824136},\n",
              "   'input': {'field_names': ['text_field']},\n",
              "   'inference_config': {'text_classification': {'vocabulary': {'index': '.ml-inference-native-000002'},\n",
              "     'tokenization': {'bert': {'do_lower_case': True,\n",
              "       'with_special_tokens': True,\n",
              "       'max_sequence_length': 512,\n",
              "       'truncate': 'first',\n",
              "       'span': -1}},\n",
              "     'classification_labels': ['NEGATIVE', 'POSITIVE'],\n",
              "     'num_top_classes': 0}},\n",
              "   'location': {'index': {'name': '.ml-inference-native-000002'}}}]}"
            ]
          },
          "metadata": {},
          "execution_count": 7
        }
      ]
    },
    {
      "cell_type": "markdown",
      "source": [
        "```python\n",
        "🐘\n",
        "\"\"\n",
        "모델 탑재가 확인되었다면 이제 NLP 검색에 쓸 수 있도록 기동시켜요.\n",
        "모델이 시작되기까지 조금 기다려주세요.\n",
        "\"\"\n",
        "```"
      ],
      "metadata": {
        "id": "xMUFfQ65A-LQ"
      }
    },
    {
      "cell_type": "code",
      "source": [
        "# Deploy\n",
        "s = MlClient.start_trained_model_deployment(es, model_id=es_model_id)\n",
        "s.body"
      ],
      "metadata": {
        "id": "w5muJ1rLqvUW",
        "colab": {
          "base_uri": "https://localhost:8080/"
        },
        "outputId": "85e7d557-86f3-412f-b231-cf19b8a4d6b1"
      },
      "execution_count": null,
      "outputs": [
        {
          "output_type": "execute_result",
          "data": {
            "text/plain": [
              "{'assignment': {'task_parameters': {'model_id': 'distilbert-base-uncased-finetuned-sst-2-english',\n",
              "   'deployment_id': 'distilbert-base-uncased-finetuned-sst-2-english',\n",
              "   'model_bytes': 265491768,\n",
              "   'threads_per_allocation': 1,\n",
              "   'number_of_allocations': 1,\n",
              "   'queue_capacity': 1024,\n",
              "   'cache_size': '265491768b',\n",
              "   'priority': 'normal',\n",
              "   'per_deployment_memory_bytes': 265455616,\n",
              "   'per_allocation_memory_bytes': 547459140},\n",
              "  'routing_table': {'nMopcBqgSomOTIe3iKWoqg': {'current_allocations': 1,\n",
              "    'target_allocations': 1,\n",
              "    'routing_state': 'started',\n",
              "    'reason': ''}},\n",
              "  'assignment_state': 'started',\n",
              "  'start_time': '2024-03-10T00:32:12.205223478Z',\n",
              "  'max_assigned_allocations': 1}}"
            ]
          },
          "metadata": {},
          "execution_count": 15
        }
      ]
    },
    {
      "cell_type": "code",
      "source": [
        "# Check\n",
        "stats = MlClient.get_trained_models_stats(es, model_id=es_model_id)\n",
        "stats.body['trained_model_stats'][0]['deployment_stats']['nodes'][0]['routing_state']\n",
        "# 체크는 오래걸리니까 조금 기다리기!"
      ],
      "metadata": {
        "id": "ZaQUUWe0Hxwz",
        "colab": {
          "base_uri": "https://localhost:8080/"
        },
        "outputId": "89d5844e-f602-489f-d60d-fa02cfa51d54"
      },
      "execution_count": null,
      "outputs": [
        {
          "output_type": "execute_result",
          "data": {
            "text/plain": [
              "{'routing_state': 'started'}"
            ]
          },
          "metadata": {},
          "execution_count": 13
        }
      ]
    },
    {
      "cell_type": "markdown",
      "source": [
        "```python\n",
        "🐘\n",
        "\"\"\n",
        "❕ 모델 체크가 안된다면 Kibana > Machine Learning > Model Management > Trained Model 탭에서 'Synchronize your jobs and trained models.'버튼을 눌러 주세요.\n",
        "\n",
        "체크가 완료되었다면 이제 이 모델로 분석할 데이터를 준비해보도록 해요.\n",
        "\"\"\n",
        "```"
      ],
      "metadata": {
        "id": "EIAOFV3dBcLm"
      }
    }
  ]
}